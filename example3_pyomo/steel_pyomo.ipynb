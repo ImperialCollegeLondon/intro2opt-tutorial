{
 "cells": [
  {
   "cell_type": "markdown",
   "source": [
    "# Steel company problem in pyomo #\n",
    "\n",
    "First, we need to install jupyter and pyomo, and import the pyomo package."
   ],
   "metadata": {
    "collapsed": false
   }
  },
  {
   "cell_type": "code",
   "execution_count": 1,
   "outputs": [],
   "source": [
    "from pyomo.environ import *"
   ],
   "metadata": {
    "collapsed": false,
    "pycharm": {
     "name": "#%%\n"
    }
   }
  },
  {
   "cell_type": "markdown",
   "source": [
    "Pyomo has the option of creating a ConcreteModel or an AbstractModel. We create a ConcreteModel here."
   ],
   "metadata": {
    "collapsed": false
   }
  },
  {
   "cell_type": "code",
   "execution_count": 2,
   "outputs": [],
   "source": [
    "# create a model\n",
    "model = ConcreteModel()"
   ],
   "metadata": {
    "collapsed": false,
    "pycharm": {
     "name": "#%%\n"
    }
   }
  },
  {
   "cell_type": "markdown",
   "source": [
    "Definition of sets, parameters and decision variables. Note the difference between indexed and non-indexed parameters."
   ],
   "metadata": {
    "collapsed": false
   }
  },
  {
   "cell_type": "code",
   "execution_count": 3,
   "outputs": [],
   "source": [
    "# Sets\n",
    "model.PROD = Set(initialize=['BANDS', 'COILS'])  # products\n",
    "\n",
    "# Parameters\n",
    "model.T = Param(initialize=40)  # hours per week\n",
    "model.c = Param(model.PROD, initialize={'BANDS': 25, 'COILS': 30}) # [$/t] profit per ton of product\n",
    "model.B_max = Param(model.PROD, initialize={'BANDS': 6000, 'COILS': 4000})  # [t] max weekly production\n",
    "model.t = Param(model.PROD, initialize={'BANDS': 200, 'COILS': 140})  # [t/h] Production rate\n",
    "\n",
    "# Decision Variables\n",
    "model.x = Var(model.PROD, domain=NonNegativeReals)  # [t] ton of products to produce"
   ],
   "metadata": {
    "collapsed": false,
    "pycharm": {
     "name": "#%%\n"
    }
   }
  },
  {
   "cell_type": "markdown",
   "source": [
    "Constraints can be created in different ways."
   ],
   "metadata": {
    "collapsed": false
   }
  },
  {
   "cell_type": "code",
   "execution_count": 4,
   "outputs": [],
   "source": [
    "# Constraints\n",
    "def max_prod(model, i):\n",
    "    return model.x[i] <= model.B_max[i]\n",
    "model.max_prod = Constraint(model.PROD, rule=max_prod)\n",
    "\n",
    "model.hours_week = Constraint(expr=sum(model.x[i]/model.t[i] for i in model.PROD) <= model.T)"
   ],
   "metadata": {
    "collapsed": false,
    "pycharm": {
     "name": "#%%\n"
    }
   }
  },
  {
   "cell_type": "markdown",
   "source": [
    "Definition of the objective."
   ],
   "metadata": {
    "collapsed": false
   }
  },
  {
   "cell_type": "code",
   "execution_count": 5,
   "outputs": [],
   "source": [
    "# Objective\n",
    "def profit(model):\n",
    "    return summation(model.c, model.x)\n",
    "model.obj = Objective(rule=profit, sense=maximize)"
   ],
   "metadata": {
    "collapsed": false,
    "pycharm": {
     "name": "#%%\n"
    }
   }
  },
  {
   "cell_type": "markdown",
   "source": [
    "Now we can print the model we have created."
   ],
   "metadata": {
    "collapsed": false
   }
  },
  {
   "cell_type": "code",
   "execution_count": 6,
   "outputs": [
    {
     "name": "stdout",
     "output_type": "stream",
     "text": [
      "1 Set Declarations\n",
      "    PROD : Size=1, Index=None, Ordered=Insertion\n",
      "        Key  : Dimen : Domain : Size : Members\n",
      "        None :     1 :    Any :    2 : {'BANDS', 'COILS'}\n",
      "\n",
      "4 Param Declarations\n",
      "    B_max : Size=2, Index=PROD, Domain=Any, Default=None, Mutable=False\n",
      "        Key   : Value\n",
      "        BANDS :  6000\n",
      "        COILS :  4000\n",
      "    T : Size=1, Index=None, Domain=Any, Default=None, Mutable=False\n",
      "        Key  : Value\n",
      "        None :    40\n",
      "    c : Size=2, Index=PROD, Domain=Any, Default=None, Mutable=False\n",
      "        Key   : Value\n",
      "        BANDS :    25\n",
      "        COILS :    30\n",
      "    t : Size=2, Index=PROD, Domain=Any, Default=None, Mutable=False\n",
      "        Key   : Value\n",
      "        BANDS :   200\n",
      "        COILS :   140\n",
      "\n",
      "1 Var Declarations\n",
      "    x : Size=2, Index=PROD\n",
      "        Key   : Lower : Value : Upper : Fixed : Stale : Domain\n",
      "        BANDS :     0 :  None :  None : False :  True : NonNegativeReals\n",
      "        COILS :     0 :  None :  None : False :  True : NonNegativeReals\n",
      "\n",
      "1 Objective Declarations\n",
      "    obj : Size=1, Index=None, Active=True\n",
      "        Key  : Active : Sense    : Expression\n",
      "        None :   True : maximize : 25*x[BANDS] + 30*x[COILS]\n",
      "\n",
      "2 Constraint Declarations\n",
      "    hours_week : Size=1, Index=None, Active=True\n",
      "        Key  : Lower : Body                                           : Upper : Active\n",
      "        None :  -Inf : 0.005*x[BANDS] + 0.007142857142857143*x[COILS] :  40.0 :   True\n",
      "    max_prod : Size=2, Index=PROD, Active=True\n",
      "        Key   : Lower : Body     : Upper  : Active\n",
      "        BANDS :  -Inf : x[BANDS] : 6000.0 :   True\n",
      "        COILS :  -Inf : x[COILS] : 4000.0 :   True\n",
      "\n",
      "9 Declarations: PROD T c B_max t x max_prod hours_week obj\n"
     ]
    }
   ],
   "source": [
    "model.pprint()"
   ],
   "metadata": {
    "collapsed": false,
    "pycharm": {
     "name": "#%%\n"
    }
   }
  },
  {
   "cell_type": "markdown",
   "source": [
    "We solve the model in GLPK (using the solver GLPSOL) and we print the output variables."
   ],
   "metadata": {
    "collapsed": false
   }
  },
  {
   "cell_type": "code",
   "execution_count": 7,
   "outputs": [
    {
     "name": "stdout",
     "output_type": "stream",
     "text": [
      "# ==========================================================\n",
      "# = Solver Results                                         =\n",
      "# ==========================================================\n",
      "# ----------------------------------------------------------\n",
      "#   Problem Information\n",
      "# ----------------------------------------------------------\n",
      "Problem: \n",
      "- Name: unknown\n",
      "  Lower bound: 192000.0\n",
      "  Upper bound: 192000.0\n",
      "  Number of objectives: 1\n",
      "  Number of constraints: 4\n",
      "  Number of variables: 3\n",
      "  Number of nonzeros: 5\n",
      "  Sense: maximize\n",
      "# ----------------------------------------------------------\n",
      "#   Solver Information\n",
      "# ----------------------------------------------------------\n",
      "Solver: \n",
      "- Status: ok\n",
      "  Termination condition: optimal\n",
      "  Statistics: \n",
      "    Branch and bound: \n",
      "      Number of bounded subproblems: 0\n",
      "      Number of created subproblems: 0\n",
      "  Error rc: 0\n",
      "  Time: 0.011626958847045898\n",
      "# ----------------------------------------------------------\n",
      "#   Solution Information\n",
      "# ----------------------------------------------------------\n",
      "Solution: \n",
      "- number of solutions: 0\n",
      "  number of solutions displayed: 0\n",
      "\n",
      "Profit =  192000.0\n",
      "\n",
      "Decision Variables\n",
      "x[BANDS] 6000.0\n",
      "x[COILS] 1400.0\n"
     ]
    }
   ],
   "source": [
    "SolverFactory('glpk', executable='/usr/local/bin/glpsol').solve(model).write()\n",
    "\n",
    "# display solution\n",
    "print('\\nProfit = ', model.obj())\n",
    "\n",
    "print('\\nDecision Variables')\n",
    "for i in model.x:\n",
    "  print (str(model.x[i]), model.x[i].value)"
   ],
   "metadata": {
    "collapsed": false,
    "pycharm": {
     "name": "#%%\n"
    }
   }
  }
 ],
 "metadata": {
  "kernelspec": {
   "display_name": "Python 3",
   "language": "python",
   "name": "python3"
  },
  "language_info": {
   "codemirror_mode": {
    "name": "ipython",
    "version": 2
   },
   "file_extension": ".py",
   "mimetype": "text/x-python",
   "name": "python",
   "nbconvert_exporter": "python",
   "pygments_lexer": "ipython2",
   "version": "2.7.6"
  }
 },
 "nbformat": 4,
 "nbformat_minor": 0
}